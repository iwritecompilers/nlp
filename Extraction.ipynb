{
 "cells": [
  {
   "cell_type": "code",
   "execution_count": null,
   "metadata": {
    "scrolled": true
   },
   "outputs": [],
   "source": [
    "!cat data/TREC/trec05p-1/README.txt\n",
    "!python3 --version"
   ]
  },
  {
   "cell_type": "code",
   "execution_count": null,
   "metadata": {},
   "outputs": [],
   "source": [
    "import os\n",
    "from html.parser import HTMLParser\n",
    "\n",
    "\n",
    "class MyHTMLParser(HTMLParser):\n",
    "    def __init__ (self):\n",
    "        super(MyHTMLParser, self).__init__()\n",
    "        self.current_email = \"\"\n",
    "    def handle_starttag(self, tag, attrs):\n",
    "        pass\n",
    "    def handle_endtag(self, tag):\n",
    "        pass\n",
    "    def handle_data(self, data):\n",
    "        self.current_email += data + \" \""
   ]
  },
  {
   "cell_type": "code",
   "execution_count": null,
   "metadata": {},
   "outputs": [],
   "source": [
    "def extract_metadata (encoded_message, corpus, collection):\n",
    "    sender = \"\"\n",
    "    content_type = \"\"\n",
    "    boundary = None\n",
    "    body_index = None\n",
    "    split_indices = []\n",
    "    \n",
    "    for i, line in enumerate(encoded_message):\n",
    "        sline = line.decode('latin-1')\n",
    "        if str.encode(\"From: \") in line:\n",
    "            sender = sline[6:].strip()\n",
    "        if content_type == '' and str.encode(\"Content-Type: \") in line:\n",
    "            content_type = sline[14:sline.find(';')]\n",
    "        if 'boundary' in sline and sline.find('=') != -1:\n",
    "            boundary = sline[sline.find('=')+1:][1:-2]\n",
    "            continue\n",
    "        if boundary and boundary in sline:\n",
    "            split_indices.append(i)\n",
    "        if not body_index and sline.strip() == \"\":\n",
    "            body_index = i\n",
    "    \n",
    "    if len(split_indices) == 0:\n",
    "        split_indices.append(body_index)\n",
    "    split_indices.append(len(encoded_message)-1)\n",
    "    \n",
    "#     print(\"------------\", corpus, collection)\n",
    "#     print(sender)\n",
    "#     print(content_type)\n",
    "#     print(boundary)\n",
    "#     print(body_index)\n",
    "#     print(split_indices)\n",
    "    \n",
    "    return (sender, content_type, boundary, split_indices)\n",
    "    \n",
    "            "
   ]
  },
  {
   "cell_type": "code",
   "execution_count": null,
   "metadata": {
    "scrolled": true
   },
   "outputs": [],
   "source": [
    "data_dir = './data/TREC/trec05p-1/data/'\n",
    "senders = []\n",
    "dir_limit = 1\n",
    "\n",
    "for corpus in sorted(os.listdir(data_dir)):\n",
    "    file_limit = 100\n",
    "    for collection in sorted(os.listdir(f\"{data_dir}/{corpus}/\")):\n",
    "        fin = open(f\"{data_dir}/{corpus}/{collection}\", 'rb')\n",
    "        encoded_message = fin.readlines()\n",
    "        sender, content_type, boundary, split_indices = extract_metadata(encoded_message, corpus, collection)\n",
    "        charset = \"latin-1\"\n",
    "        \n",
    "        if len(split_indices) > 2:\n",
    "            for i in range(len(split_indices) - 1):\n",
    "                x = split_indices[i]\n",
    "                y = split_indices[i + 1]\n",
    "                j = x + 1\n",
    "                charset_found = False\n",
    "                while j < y:\n",
    "                    line = encoded_message[j].decode(\"latin-1\").strip()\n",
    "                    if len(line) == 0:\n",
    "                        break\n",
    "                    if \"charset\" in line:\n",
    "                        charset = line.split(\"=\")[1][1:-1]\n",
    "                    j += 1\n",
    "                print(\"--- EMAIL: --- \", collection, corpus, True)\n",
    "                parser = MyHTMLParser()   \n",
    "                parser.feed(b\"\".join(encoded_message[j+1:y]).decode(charset))\n",
    "                print(parser.current_email)\n",
    "        else:\n",
    "            print(\"--- EMAIL: --- \", collection, corpus, False)\n",
    "            parser = MyHTMLParser()   \n",
    "            parser.feed(b\"\".join(encoded_message[split_indices[0]:split_indices[1]]).decode(charset))\n",
    "            print(parser.current_email)\n",
    "            \n",
    "        fin.close()\n",
    "        file_limit -= 1\n",
    "        if file_limit == 0:\n",
    "            break\n",
    "        \n",
    "    dir_limit -= 1\n",
    "    if dir_limit == 0:\n",
    "        break"
   ]
  }
 ],
 "metadata": {
  "kernelspec": {
   "display_name": "Python 3",
   "language": "python",
   "name": "python3"
  },
  "language_info": {
   "codemirror_mode": {
    "name": "ipython",
    "version": 3
   },
   "file_extension": ".py",
   "mimetype": "text/x-python",
   "name": "python",
   "nbconvert_exporter": "python",
   "pygments_lexer": "ipython3",
   "version": "3.8.2"
  }
 },
 "nbformat": 4,
 "nbformat_minor": 4
}
