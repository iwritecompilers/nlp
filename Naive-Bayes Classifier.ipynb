{
 "cells": [
  {
   "cell_type": "markdown",
   "metadata": {},
   "source": [
    "### Importing Data"
   ]
  },
  {
   "cell_type": "code",
   "execution_count": 5,
   "metadata": {},
   "outputs": [],
   "source": [
    "import nltk\n",
    "import pandas as pd\n",
    "\n",
    "df = pd.read_csv('filtered_data.csv', index_col=0)\n",
    "df = df[~df['message'].isna()]\n",
    "df = df.sample(frac=1).reset_index(drop=True)\n",
    "\n",
    "train_data = df[:int(df.shape[0]*0.75)]\n",
    "test_data = df[int(df.shape[0]*0.75):].reset_index(drop=True)"
   ]
  },
  {
   "cell_type": "markdown",
   "metadata": {},
   "source": [
    "### My Implementation of Naive-Bayes"
   ]
  },
  {
   "cell_type": "code",
   "execution_count": 6,
   "metadata": {},
   "outputs": [],
   "source": [
    "from collections import Counter\n",
    "\n",
    "all_ham_words = train_data[train_data['label'] == False]['message'].tolist()\n",
    "all_ham_words = \" \".join([str(word) for word in all_ham_words])\n",
    "\n",
    "ham_word_count = Counter(list(filter(lambda x: len(x) < 30, all_ham_words.split(\" \")))).most_common()\n",
    "ham_indexed = {}\n",
    "total_ham = 0\n",
    "for word, count in ham_word_count:\n",
    "    ham_indexed[word] = count\n",
    "    total_ham += count"
   ]
  },
  {
   "cell_type": "code",
   "execution_count": 7,
   "metadata": {},
   "outputs": [],
   "source": [
    "all_spam_words = train_data[train_data['label'] == True]['message'].tolist()\n",
    "all_spam_words = \" \".join([str(word) for word in all_spam_words])\n",
    "\n",
    "spam_word_count = Counter(list(filter(lambda x: len(x) < 30, all_spam_words.split(\" \")))).most_common()\n",
    "spam_indexed = {}\n",
    "total_spam = 0\n",
    "for word, count in spam_word_count:\n",
    "    spam_indexed[word] = count\n",
    "    total_spam += count"
   ]
  },
  {
   "cell_type": "code",
   "execution_count": 8,
   "metadata": {},
   "outputs": [],
   "source": [
    "def calculate_spam_score (message):\n",
    "    indexer = Counter(message.split(\" \")).most_common()\n",
    "    spam_score = total_spam / (total_ham + total_spam)\n",
    "    for word, count in indexer:\n",
    "        if word in spam_indexed:\n",
    "            spam_score *= ((spam_indexed[word]+1)/total_spam) * count\n",
    "        else:\n",
    "            spam_score *= (1/total_spam) * count\n",
    "            \n",
    "    return spam_score\n",
    "\n",
    "def calculate_ham_score (message):\n",
    "    indexer = Counter(message.split(\" \")).most_common()\n",
    "    ham_score = total_ham / (total_ham + total_spam)\n",
    "    for word, count in indexer:\n",
    "        if word in ham_indexed:\n",
    "            ham_score *= ((ham_indexed[word]+1)/total_ham) * count\n",
    "        else:\n",
    "            ham_score *= (1/total_ham) * count\n",
    "            \n",
    "    return ham_score"
   ]
  },
  {
   "cell_type": "code",
   "execution_count": 9,
   "metadata": {},
   "outputs": [],
   "source": [
    "r = 0\n",
    "t = 0\n",
    "for index, row in test_data.iterrows():\n",
    "    c = False\n",
    "    try:\n",
    "        if calculate_spam_score(row['message']) > calculate_ham_score(row['message']):\n",
    "            c = True\n",
    "    except:\n",
    "        print(row['message'])\n",
    "    if c == row['label']:\n",
    "        r += 1\n",
    "    t += 1"
   ]
  },
  {
   "cell_type": "code",
   "execution_count": 10,
   "metadata": {},
   "outputs": [
    {
     "name": "stdout",
     "output_type": "stream",
     "text": [
      "Accuracy: 76.59880107185282%\n"
     ]
    }
   ],
   "source": [
    "print(f\"Accuracy: {r/t*100}%\")"
   ]
  },
  {
   "cell_type": "markdown",
   "metadata": {},
   "source": [
    "### NLTK's implementation of Naive-Bayes"
   ]
  },
  {
   "cell_type": "code",
   "execution_count": 21,
   "metadata": {},
   "outputs": [],
   "source": [
    "def feature_generator (message):\n",
    "    feature_dict = {}\n",
    "    for word, count in Counter(message.split(' ')).most_common():\n",
    "            feature_dict[word] = count\n",
    "    return feature_dict"
   ]
  },
  {
   "cell_type": "code",
   "execution_count": 22,
   "metadata": {},
   "outputs": [],
   "source": [
    "train_set = []\n",
    "for index, row in train_data.iterrows():\n",
    "    train_set.append((feature_generator(row['message']), row['label']))"
   ]
  },
  {
   "cell_type": "code",
   "execution_count": 23,
   "metadata": {},
   "outputs": [],
   "source": [
    "classifier = nltk.NaiveBayesClassifier.train(train_set)"
   ]
  },
  {
   "cell_type": "code",
   "execution_count": 24,
   "metadata": {},
   "outputs": [],
   "source": [
    "r = 0\n",
    "t = 0\n",
    "for index, row in test_data.iterrows():\n",
    "    if classifier.classify(feature_generator(row['message'])) == row['label']:\n",
    "        r += 1\n",
    "    t += 1"
   ]
  },
  {
   "cell_type": "code",
   "execution_count": 25,
   "metadata": {},
   "outputs": [
    {
     "name": "stdout",
     "output_type": "stream",
     "text": [
      "Accuracy: 95.02196193265007%\n"
     ]
    }
   ],
   "source": [
    "print(f\"Accuracy: {r/t*100}%\")"
   ]
  }
 ],
 "metadata": {
  "kernelspec": {
   "display_name": "Python 3",
   "language": "python",
   "name": "python3"
  },
  "language_info": {
   "codemirror_mode": {
    "name": "ipython",
    "version": 3
   },
   "file_extension": ".py",
   "mimetype": "text/x-python",
   "name": "python",
   "nbconvert_exporter": "python",
   "pygments_lexer": "ipython3",
   "version": "3.8.2"
  }
 },
 "nbformat": 4,
 "nbformat_minor": 4
}
